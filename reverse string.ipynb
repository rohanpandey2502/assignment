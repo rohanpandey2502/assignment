{
 "cells": [
  {
   "cell_type": "code",
   "execution_count": 18,
   "id": "4a0e82b0",
   "metadata": {},
   "outputs": [
    {
     "name": "stdout",
     "output_type": "stream",
     "text": [
      "original string Edyoda\n",
      "reverse string adoydE\n"
     ]
    }
   ],
   "source": [
    "def a(str):\n",
    "    str_1=\"\"\n",
    "    for i in str:\n",
    "        str_1=i+str_1\n",
    "    return str_1 \n",
    "\n",
    "str = \"Edyoda\"\n",
    "print(\"original string {}\".format(str))\n",
    "print(\"reverse string {}\".format(a(str)))\n"
   ]
  },
  {
   "cell_type": "code",
   "execution_count": null,
   "id": "ce8129df",
   "metadata": {},
   "outputs": [],
   "source": []
  },
  {
   "cell_type": "code",
   "execution_count": null,
   "id": "e2f6d044",
   "metadata": {},
   "outputs": [],
   "source": []
  },
  {
   "cell_type": "code",
   "execution_count": null,
   "id": "584dd4a6",
   "metadata": {},
   "outputs": [],
   "source": []
  }
 ],
 "metadata": {
  "kernelspec": {
   "display_name": "Python 3 (ipykernel)",
   "language": "python",
   "name": "python3"
  },
  "language_info": {
   "codemirror_mode": {
    "name": "ipython",
    "version": 3
   },
   "file_extension": ".py",
   "mimetype": "text/x-python",
   "name": "python",
   "nbconvert_exporter": "python",
   "pygments_lexer": "ipython3",
   "version": "3.9.13"
  }
 },
 "nbformat": 4,
 "nbformat_minor": 5
}
