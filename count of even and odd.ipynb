{
 "cells": [
  {
   "cell_type": "code",
   "execution_count": 24,
   "id": "8292db9b",
   "metadata": {},
   "outputs": [
    {
     "name": "stdout",
     "output_type": "stream",
     "text": [
      "1 is odd\n",
      "2 is even\n",
      "3 is odd\n",
      "4 is even\n",
      "5 is odd\n",
      "6 is even\n",
      "7 is odd\n",
      "8 is even\n",
      "9 is odd\n"
     ]
    }
   ],
   "source": [
    "#count of even and odd\n",
    " \n",
    "\n",
    "even=0\n",
    "odd=0\n",
    "for num in range(1,10):\n",
    "    if (num % 2==0):\n",
    "        even=even+1\n",
    "        print(\"{0} is even\".format(num))\n",
    "    else:\n",
    "        print(\"{0} is odd\".format(num))"
   ]
  },
  {
   "cell_type": "code",
   "execution_count": 37,
   "id": "1f8dd7a0",
   "metadata": {},
   "outputs": [
    {
     "name": "stdout",
     "output_type": "stream",
     "text": [
      "even numbers = 4 & odd numbers = 5\n"
     ]
    }
   ],
   "source": [
    "odd=0\n",
    "even=0\n",
    "for num in range(1,10):\n",
    "    if (num%2==0):\n",
    "        even=even+1\n",
    "    else:\n",
    "        odd=odd+1\n",
    "print(\"even numbers = {} & odd numbers = {}\".format(even,odd))        \n"
   ]
  },
  {
   "cell_type": "code",
   "execution_count": null,
   "id": "711f1c6b",
   "metadata": {},
   "outputs": [],
   "source": []
  }
 ],
 "metadata": {
  "kernelspec": {
   "display_name": "Python 3 (ipykernel)",
   "language": "python",
   "name": "python3"
  },
  "language_info": {
   "codemirror_mode": {
    "name": "ipython",
    "version": 3
   },
   "file_extension": ".py",
   "mimetype": "text/x-python",
   "name": "python",
   "nbconvert_exporter": "python",
   "pygments_lexer": "ipython3",
   "version": "3.9.13"
  }
 },
 "nbformat": 4,
 "nbformat_minor": 5
}
